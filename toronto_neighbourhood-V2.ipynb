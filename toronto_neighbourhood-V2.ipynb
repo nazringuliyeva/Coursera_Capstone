{
 "cells": [
  {
   "cell_type": "code",
   "execution_count": 7,
   "metadata": {},
   "outputs": [],
   "source": [
    "# Download necessary libraries and packages\n",
    "import pandas as pd\n",
    "import numpy as np"
   ]
  },
  {
   "cell_type": "code",
   "execution_count": 8,
   "metadata": {},
   "outputs": [
    {
     "name": "stdout",
     "output_type": "stream",
     "text": [
      "Requirement already satisfied: lxml in /home/jupyterlab/conda/envs/python/lib/python3.6/site-packages (4.5.1)\n",
      "Note: you may need to restart the kernel to use updated packages.\n"
     ]
    }
   ],
   "source": [
    "pip install lxml"
   ]
  },
  {
   "cell_type": "code",
   "execution_count": 9,
   "metadata": {},
   "outputs": [
    {
     "name": "stdout",
     "output_type": "stream",
     "text": [
      "Requirement already satisfied: geocoder in /home/jupyterlab/conda/envs/python/lib/python3.6/site-packages (1.38.1)\n",
      "Requirement already satisfied: click in /home/jupyterlab/conda/envs/python/lib/python3.6/site-packages (from geocoder) (7.1.2)\n",
      "Requirement already satisfied: six in /home/jupyterlab/conda/envs/python/lib/python3.6/site-packages (from geocoder) (1.14.0)\n",
      "Requirement already satisfied: requests in /home/jupyterlab/conda/envs/python/lib/python3.6/site-packages (from geocoder) (2.23.0)\n",
      "Requirement already satisfied: ratelim in /home/jupyterlab/conda/envs/python/lib/python3.6/site-packages (from geocoder) (0.1.6)\n",
      "Requirement already satisfied: future in /home/jupyterlab/conda/envs/python/lib/python3.6/site-packages (from geocoder) (0.18.2)\n",
      "Requirement already satisfied: chardet<4,>=3.0.2 in /home/jupyterlab/conda/envs/python/lib/python3.6/site-packages (from requests->geocoder) (3.0.4)\n",
      "Requirement already satisfied: certifi>=2017.4.17 in /home/jupyterlab/conda/envs/python/lib/python3.6/site-packages (from requests->geocoder) (2020.4.5.1)\n",
      "Requirement already satisfied: urllib3!=1.25.0,!=1.25.1,<1.26,>=1.21.1 in /home/jupyterlab/conda/envs/python/lib/python3.6/site-packages (from requests->geocoder) (1.25.9)\n",
      "Requirement already satisfied: idna<3,>=2.5 in /home/jupyterlab/conda/envs/python/lib/python3.6/site-packages (from requests->geocoder) (2.9)\n",
      "Requirement already satisfied: decorator in /home/jupyterlab/conda/envs/python/lib/python3.6/site-packages (from ratelim->geocoder) (4.4.2)\n",
      "Note: you may need to restart the kernel to use updated packages.\n"
     ]
    }
   ],
   "source": [
    "pip install geocoder"
   ]
  },
  {
   "cell_type": "code",
   "execution_count": 10,
   "metadata": {},
   "outputs": [],
   "source": [
    "#F Fetch the table from Wikipedia and load it to dataframe\n",
    "url='https://en.wikipedia.org/wiki/List_of_postal_codes_of_Canada:_M'\n",
    "df=pd.read_html(url, header=0)[0]"
   ]
  },
  {
   "cell_type": "code",
   "execution_count": 11,
   "metadata": {},
   "outputs": [
    {
     "name": "stdout",
     "output_type": "stream",
     "text": [
      "  Postal Code           Borough                                 Neighborhood\n",
      "2         M3A        North York                                    Parkwoods\n",
      "3         M4A        North York                             Victoria Village\n",
      "4         M5A  Downtown Toronto                    Regent Park, Harbourfront\n",
      "5         M6A        North York             Lawrence Manor, Lawrence Heights\n",
      "6         M7A  Downtown Toronto  Queen's Park, Ontario Provincial Government\n"
     ]
    }
   ],
   "source": [
    "# Remove Not Assigned Boroughs\n",
    "df = df[df['Borough'] != 'Not assigned']\n",
    "print(df.head())"
   ]
  },
  {
   "cell_type": "code",
   "execution_count": 12,
   "metadata": {},
   "outputs": [
    {
     "name": "stdout",
     "output_type": "stream",
     "text": [
      "  Postal Code           Borough                                 Neighborhood\n",
      "2         M3A        North York                                    Parkwoods\n",
      "3         M4A        North York                             Victoria Village\n",
      "4         M5A  Downtown Toronto                    Regent Park, Harbourfront\n",
      "5         M6A        North York             Lawrence Manor, Lawrence Heights\n",
      "6         M7A  Downtown Toronto  Queen's Park, Ontario Provincial Government\n"
     ]
    }
   ],
   "source": [
    "# Replace not assigned Neighborhoods with Borough value\n",
    "df['Neighborhood'] = np.where(df['Neighborhood'] == 'Not assigned', df['Borough'], df['Neighborhood'])\n",
    "print(df.head())"
   ]
  },
  {
   "cell_type": "code",
   "execution_count": 13,
   "metadata": {},
   "outputs": [
    {
     "data": {
      "text/plain": [
       "(103, 3)"
      ]
     },
     "execution_count": 13,
     "metadata": {},
     "output_type": "execute_result"
    }
   ],
   "source": [
    "# Print the number of rows\n",
    "df.shape"
   ]
  },
  {
   "cell_type": "code",
   "execution_count": 14,
   "metadata": {},
   "outputs": [
    {
     "name": "stdout",
     "output_type": "stream",
     "text": [
      "  Postal Code   Latitude  Longitude\n",
      "0         M1B  43.806686 -79.194353\n",
      "1         M1C  43.784535 -79.160497\n",
      "2         M1E  43.763573 -79.188711\n",
      "3         M1G  43.770992 -79.216917\n",
      "4         M1H  43.773136 -79.239476\n"
     ]
    }
   ],
   "source": [
    "geo_df = pd.read_csv('Geospatial_Coordinates.csv')\n",
    "print(geo_df.head())"
   ]
  },
  {
   "cell_type": "code",
   "execution_count": 16,
   "metadata": {},
   "outputs": [
    {
     "name": "stdout",
     "output_type": "stream",
     "text": [
      "  Postal Code           Borough                                 Neighborhood  \\\n",
      "0         M3A        North York                                    Parkwoods   \n",
      "1         M4A        North York                             Victoria Village   \n",
      "2         M5A  Downtown Toronto                    Regent Park, Harbourfront   \n",
      "3         M6A        North York             Lawrence Manor, Lawrence Heights   \n",
      "4         M7A  Downtown Toronto  Queen's Park, Ontario Provincial Government   \n",
      "\n",
      "    Latitude  Longitude  \n",
      "0  43.753259 -79.329656  \n",
      "1  43.725882 -79.315572  \n",
      "2  43.654260 -79.360636  \n",
      "3  43.718518 -79.464763  \n",
      "4  43.662301 -79.389494  \n"
     ]
    }
   ],
   "source": [
    "df = df.merge(geo_df, on='Postal Code', how='left')\n",
    "print(df.head())"
   ]
  }
 ],
 "metadata": {
  "kernelspec": {
   "display_name": "Python",
   "language": "python",
   "name": "conda-env-python-py"
  },
  "language_info": {
   "codemirror_mode": {
    "name": "ipython",
    "version": 3
   },
   "file_extension": ".py",
   "mimetype": "text/x-python",
   "name": "python",
   "nbconvert_exporter": "python",
   "pygments_lexer": "ipython3",
   "version": "3.6.10"
  }
 },
 "nbformat": 4,
 "nbformat_minor": 4
}
